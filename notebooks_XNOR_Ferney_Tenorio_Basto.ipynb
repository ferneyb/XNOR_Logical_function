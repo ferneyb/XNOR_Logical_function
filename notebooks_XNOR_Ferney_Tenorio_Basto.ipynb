{
  "metadata": {
    "language_info": {
      "codemirror_mode": {
        "name": "python",
        "version": 3
      },
      "file_extension": ".py",
      "mimetype": "text/x-python",
      "name": "python",
      "nbconvert_exporter": "python",
      "pygments_lexer": "ipython3",
      "version": "3.8"
    },
    "kernelspec": {
      "name": "python",
      "display_name": "Python (Pyodide)",
      "language": "python"
    }
  },
  "nbformat_minor": 4,
  "nbformat": 4,
  "cells": [
    {
      "cell_type": "code",
      "source": "# importando la biblioteca de Python\nimport numpy as np\n# definir la función de paso unitario\ndef pasoUnico(v):\n    if v >= 0:# se evalua si v mayor o igual a cero\n        return 1 # retorna 1\n    else:# si no es asi retorna 0\n        return 0\n#diseño del modelo de perceptrón,con tres parametros en la funcion\ndef modeloPerceptron(x, w, b):\n    v = np.dot(w, x) + b # se usa dot de la libreria panda para pasar dos valors y se suma b\n    y = pasoUnico(v) # se invoca la funcion pasoUnico y se agregar el valor de v\n    return y # se retorna y que contiene el valor de la funcion pasoUnico\n# NOT -> funcion logica\n# wNOT = -1, bNOT = 0.5 se declara variable con los valores asignados\n# se define la funcion logica NOT con un argumento\ndef NOT_funcionLogica(x):\n    wNOT = -1\n    bNOT = 0.5 # se retorna funcion modeloPerceptron con valores....\n    return modeloPerceptron(x, wNOT, bNOT)\n# AND -> funcion logica\n# w1 = 1, w2 = 1, bAND = -1.5 e declara variable con los valores asignados\n# se define la funcion logica AND con un argumento\ndef AND_funcionLogica(x):\n    w = np.array([1, 1])# se usa array  de la librearia panda para pasar un vector con valores 1,1\n    bAND = -1.5 #se retorna funcion modeloPerceptron con valores....\n    return modeloPerceptron(x, w, bAND)\n# OR -> funcion logica\n# aqui = wOR1 = 1,\n# w2 = wOR2 = 1, bOR = -0.5 se declara variable con los valores asignados\n# se define la funcion logica OR con un argumento\ndef OR_funcionLogica(x):\n    w = np.array([1, 1])# se usa array  de la librearia panda para pasar un vector con valores 1,1\n    bOR = -0.5#se retorna funcion modeloPerceptron con valores...\n    return modeloPerceptron(x, w, bOR)\n# XNOR -> funcion logica\n# se invoca las funciones creadas para hallar el resultado de  AND, OR y NOT y almacena en variables\n## se define la funcion logica XNOR con un argumento\ndef XNOR_funcionLogica(x):\n    y1 = OR_funcionLogica(x)\n    y2 = AND_funcionLogica(x)\n    y3 = NOT_funcionLogica(y1) # se asigna el valor y1\n    valor_x = np.array([y2, y3])# se usa array  de la librearia panda para pasar un vector con valores de y2,y3\n    salidaFinal = OR_funcionLogica(valor_x) # se envia en la funcion con el valor obtenido en valor_x\n    return salidaFinal#Se retorna la salida del valor ontenida en la variable salidaFinal\n# probando el modelo perceptrón con array agregando valores al vector \ntest1 = np.array([0, 1])# 0 y 1 retornara Falso o 0\ntest2 = np.array([1, 1])# 1 y 1 verdadero o 1\ntest3 = np.array([0, 0])# 0 y 0 verdadero o 1\ntest4 = np.array([1, 0])# 1 y 0 retornara Falso o 0\n#impresion de los datos recibidos concatenando en una cadena \nprint(\"Resultado de la compuerta logica XNOR({}, {}) = {}\".format(0, 1, XNOR_funcionLogica(test1)))\nprint(\"Resultado de la compuerta logica XNOR({}, {}) = {}\".format(1, 1, XNOR_funcionLogica(test2)))\nprint(\"Resultado de la compuerta logica XNOR({}, {}) = {}\".format(0, 0, XNOR_funcionLogica(test3)))\nprint(\"Resultado de la compuerta logica XNOR({}, {}) = {}\".format(1, 0, XNOR_funcionLogica(test4)))\nprint(\" Realizado por Ferney Tenorio Basto\")",
      "metadata": {
        "trusted": true
      },
      "execution_count": 11,
      "outputs": [
        {
          "name": "stdout",
          "text": "Resultado de la compuerta logica XNOR(0, 1) = 0\nResultado de la compuerta logica XNOR(1, 1) = 1\nResultado de la compuerta logica XNOR(0, 0) = 1\nResultado de la compuerta logica XNOR(1, 0) = 0\n Realizado por Ferney Tenorio Basto\n",
          "output_type": "stream"
        }
      ]
    },
    {
      "cell_type": "code",
      "source": "",
      "metadata": {},
      "execution_count": null,
      "outputs": []
    },
    {
      "cell_type": "code",
      "source": "",
      "metadata": {},
      "execution_count": null,
      "outputs": []
    },
    {
      "cell_type": "code",
      "source": "",
      "metadata": {},
      "execution_count": null,
      "outputs": []
    }
  ]
}